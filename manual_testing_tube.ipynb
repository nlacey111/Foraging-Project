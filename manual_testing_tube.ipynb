{
 "cells": [
  {
   "cell_type": "markdown",
   "id": "f86421d7",
   "metadata": {},
   "source": [
    "Manually testing my tube idea \n"
   ]
  },
  {
   "cell_type": "code",
   "execution_count": 1,
   "id": "1bc2791b",
   "metadata": {},
   "outputs": [],
   "source": [
    "import gymnasium as gym\n",
    "import foraging_envs\n",
    "from convert_net import *"
   ]
  },
  {
   "cell_type": "code",
   "execution_count": 2,
   "id": "55a963e8",
   "metadata": {},
   "outputs": [],
   "source": [
    "env = gym.make(\"foraging_envs/foraging-three\", episode_length = 100, flower_distribution = \"uniform\", decay_parameter = .25, travel_time = 5, render_mode = \"human\")"
   ]
  },
  {
   "cell_type": "code",
   "execution_count": 3,
   "id": "6d362775",
   "metadata": {},
   "outputs": [
    {
     "name": "stdout",
     "output_type": "stream",
     "text": [
      "Time spent at flower:  1 Reward received:  0.7788007830714049\n",
      "Travel time to next flower (a):  5\n",
      "Time spent at flower:  1 Reward received:  0\n",
      "Travel time to next flower (a):  4\n",
      "Time spent at flower:  1 Reward received:  0\n",
      "Travel time to next flower (a):  3\n",
      "Time spent at flower:  2 Reward received:  0\n",
      "Travel time to next flower (a):  3\n",
      "Time spent at flower:  3 Reward received:  0\n",
      "Travel time to next flower (a):  3\n",
      "Time spent at flower:  1 Reward received:  0\n",
      "Travel time to next flower (a):  2\n"
     ]
    }
   ],
   "source": [
    "check_env(env)"
   ]
  },
  {
   "cell_type": "code",
   "execution_count": 4,
   "id": "66b6c864",
   "metadata": {},
   "outputs": [
    {
     "data": {
      "text/plain": [
       "(array([0., 1., 1.], dtype=float32), {})"
      ]
     },
     "execution_count": 4,
     "metadata": {},
     "output_type": "execute_result"
    }
   ],
   "source": [
    "env.reset()"
   ]
  },
  {
   "cell_type": "code",
   "execution_count": 39,
   "id": "b8932198",
   "metadata": {},
   "outputs": [
    {
     "name": "stdout",
     "output_type": "stream",
     "text": [
      "Travel time to next flower (b):  5\n"
     ]
    },
    {
     "data": {
      "text/plain": [
       "(array([1., 1., 1.], dtype=float32), np.float64(1.0), False, False, {})"
      ]
     },
     "execution_count": 39,
     "metadata": {},
     "output_type": "execute_result"
    }
   ],
   "source": [
    "env.step(1)"
   ]
  }
 ],
 "metadata": {
  "kernelspec": {
   "display_name": ".venv",
   "language": "python",
   "name": "python3"
  },
  "language_info": {
   "codemirror_mode": {
    "name": "ipython",
    "version": 3
   },
   "file_extension": ".py",
   "mimetype": "text/x-python",
   "name": "python",
   "nbconvert_exporter": "python",
   "pygments_lexer": "ipython3",
   "version": "3.13.3"
  }
 },
 "nbformat": 4,
 "nbformat_minor": 5
}
