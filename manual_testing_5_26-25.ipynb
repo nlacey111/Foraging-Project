{
 "cells": [
  {
   "cell_type": "code",
   "execution_count": 1,
   "id": "bfc7c10b",
   "metadata": {},
   "outputs": [],
   "source": [
    "import gymnasium as gym\n",
    "import foraging_envs\n",
    "\n",
    "\n",
    "env = gym.make(\"foraging_envs/foraging-two\", episode_length = 100, flower_distribution = \"uniform\", decay_parameter = .25, travel_time = 2, render_mode = \"human\")\n",
    "obs, info = env.reset()\n"
   ]
  },
  {
   "cell_type": "code",
   "execution_count": 2,
   "id": "f3d7a64f",
   "metadata": {},
   "outputs": [
    {
     "data": {
      "text/plain": [
       "(array([0.       , 0.7788008], dtype=float32),\n",
       " np.float64(0.7788007830714049),\n",
       " False,\n",
       " False,\n",
       " {})"
      ]
     },
     "execution_count": 2,
     "metadata": {},
     "output_type": "execute_result"
    }
   ],
   "source": [
    "env.step(0)"
   ]
  },
  {
   "cell_type": "code",
   "execution_count": 4,
   "id": "b0644a82",
   "metadata": {},
   "outputs": [
    {
     "data": {
      "text/plain": [
       "(array([ 1.        , -0.71428573], dtype=float32),\n",
       " -0.7142857142857143,\n",
       " False,\n",
       " False,\n",
       " {})"
      ]
     },
     "execution_count": 4,
     "metadata": {},
     "output_type": "execute_result"
    }
   ],
   "source": [
    "env.step(1)"
   ]
  },
  {
   "cell_type": "code",
   "execution_count": 5,
   "id": "9e248df5",
   "metadata": {},
   "outputs": [
    {
     "data": {
      "text/plain": [
       "(array([0.       , 0.7788008], dtype=float32),\n",
       " np.float64(0.7788007830714049),\n",
       " False,\n",
       " False,\n",
       " {})"
      ]
     },
     "execution_count": 5,
     "metadata": {},
     "output_type": "execute_result"
    }
   ],
   "source": [
    "env.step(0)"
   ]
  }
 ],
 "metadata": {
  "kernelspec": {
   "display_name": ".venv",
   "language": "python",
   "name": "python3"
  },
  "language_info": {
   "codemirror_mode": {
    "name": "ipython",
    "version": 3
   },
   "file_extension": ".py",
   "mimetype": "text/x-python",
   "name": "python",
   "nbconvert_exporter": "python",
   "pygments_lexer": "ipython3",
   "version": "3.13.3"
  }
 },
 "nbformat": 4,
 "nbformat_minor": 5
}
