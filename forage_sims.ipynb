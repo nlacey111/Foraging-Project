{
 "cells": [
  {
   "cell_type": "code",
   "execution_count": 1,
   "id": "169e10a1",
   "metadata": {},
   "outputs": [],
   "source": [
    "import numpy as np\n",
    "import matplotlib.pyplot as plt"
   ]
  },
  {
   "cell_type": "code",
   "execution_count": 2,
   "id": "9332d649",
   "metadata": {},
   "outputs": [],
   "source": [
    "# 0: stay, 1: switch\n",
    "# rewards = e^{-t} for number of steps stayed\n",
    "\n",
    "\n",
    "def simulate_fixed_policy(p=0.8, steps=10000):\n",
    "    rew_hist = np.zeros(steps)\n",
    "    action_hist = np.zeros(steps)\n",
    "    t = 0\n",
    "    p = 0.8 # prob stay\n",
    "\n",
    "    for i in range(steps):\n",
    "        \n",
    "        # action = 0\n",
    "        # if t > 5 and np.random.random < 0.1:\n",
    "        #     action = 1\n",
    "        # elif t > 3 and np.random.random < 0.4:\n",
    "        #     action = 1\n",
    "            \n",
    "        \n",
    "        # if action == 0:\n",
    "        if np.random.random() < p:\n",
    "            r = np.exp(-(t))\n",
    "            # r = 2\n",
    "            a = 0\n",
    "            t += 1\n",
    "        else:\n",
    "            r = -1\n",
    "            a = 1\n",
    "            t = 0\n",
    "        rew_hist[i] = r\n",
    "        action_hist[i] = a\n",
    "    return rew_hist, action_hist\n",
    "\n",
    "def compute_returns(rew_hist, gamma=0.99,  steps=10000):\n",
    "    # Compute returns G_\\pi\n",
    "    returns = np.zeros(len(rew_hist))\n",
    "    returns[-1] = rew_hist[-1]\n",
    "    for i in range(2, steps+1):\n",
    "        # print(i, rew_hist[-i], returns[-(i-1)])\n",
    "        returns[-i] = rew_hist[-i] + gamma * returns[-(i-1)]\n",
    "    return returns\n",
    "\n",
    "def compute_q_values(returns, action_hist):\n",
    "    # Expected Q values for each action\n",
    "    Q = np.zeros(2)\n",
    "\n",
    "    # Remove last 2000 steps to get more steady state returns\n",
    "    trunc_returns = returns[:-2000]\n",
    "    trunc_action_hist = action_hist[:-2000]\n",
    "\n",
    "    Q[0] = np.mean(trunc_returns[trunc_action_hist == 0])\n",
    "    Q[1] = np.mean(trunc_returns[trunc_action_hist == 1])\n",
    "    \n",
    "    new_p = Q[0] / np.sum(Q) # new_p following Q values\n",
    "    return Q, new_p"
   ]
  },
  {
   "cell_type": "code",
   "execution_count": null,
   "id": "073f4ce2",
   "metadata": {},
   "outputs": [
    {
     "data": {
      "text/plain": [
       "np.float64(-0.671043830218973)"
      ]
     },
     "execution_count": 3,
     "metadata": {},
     "output_type": "execute_result"
    }
   ],
   "source": [
    "rew_hist, action_hist = simulate_fixed_policy(p=.776)\n",
    "returns = compute_returns(rew_hist, gamma=0.6)\n",
    "Q, new_p = compute_q_values(returns, action_hist)\n",
    "new_p"
   ]
  }
 ],
 "metadata": {
  "kernelspec": {
   "display_name": ".venv",
   "language": "python",
   "name": "python3"
  },
  "language_info": {
   "codemirror_mode": {
    "name": "ipython",
    "version": 3
   },
   "file_extension": ".py",
   "mimetype": "text/x-python",
   "name": "python",
   "nbconvert_exporter": "python",
   "pygments_lexer": "ipython3",
   "version": "3.13.3"
  }
 },
 "nbformat": 4,
 "nbformat_minor": 5
}
